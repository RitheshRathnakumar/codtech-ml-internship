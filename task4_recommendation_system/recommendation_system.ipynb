{
 "cells": [
  {
   "cell_type": "code",
   "execution_count": 1,
   "id": "8cf78715",
   "metadata": {},
   "outputs": [
    {
     "name": "stdout",
     "output_type": "stream",
     "text": [
      "User Similarity Matrix:\n",
      "User     Alice   Bob  Charlie\n",
      "User                         \n",
      "Alice      1.0  0.60     0.90\n",
      "Bob        0.6  1.00     0.75\n",
      "Charlie    0.9  0.75     1.00\n",
      "\n",
      "Recommended movies for Alice based on Charlie's preferences:\n",
      "Movie\n",
      "Jumanji    3.0\n",
      "Name: Charlie, dtype: float64\n"
     ]
    }
   ],
   "source": [
    "# Task 4: Recommendation System using Collaborative Filtering\n",
    "\n",
    "import pandas as pd\n",
    "from sklearn.metrics.pairwise import cosine_similarity\n",
    "\n",
    "# Sample data: user-item ratings\n",
    "data = {\n",
    "    'User': ['Alice', 'Alice', 'Alice', 'Bob', 'Bob', 'Charlie', 'Charlie', 'Charlie', 'Charlie'],\n",
    "    'Movie': ['Inception', 'Titanic', 'Avatar', 'Titanic', 'Avatar', 'Inception', 'Titanic', 'Avatar', 'Jumanji'],\n",
    "    'Rating': [5, 3, 4, 5, 2, 4, 5, 5, 3]\n",
    "}\n",
    "\n",
    "df = pd.DataFrame(data)\n",
    "\n",
    "# Create user-item matrix\n",
    "user_movie_matrix = df.pivot_table(index='User', columns='Movie', values='Rating').fillna(0)\n",
    "\n",
    "# Compute cosine similarity between users\n",
    "similarity_matrix = pd.DataFrame(\n",
    "    cosine_similarity(user_movie_matrix),\n",
    "    index=user_movie_matrix.index,\n",
    "    columns=user_movie_matrix.index\n",
    ")\n",
    "\n",
    "print(\"User Similarity Matrix:\")\n",
    "print(similarity_matrix.round(2))\n",
    "\n",
    "# Recommend a movie for Alice based on similar users\n",
    "user = 'Alice'\n",
    "similar_users = similarity_matrix[user].drop(user).sort_values(ascending=False)\n",
    "top_user = similar_users.index[0]\n",
    "\n",
    "# Find movies rated by top similar user but not by Alice\n",
    "alice_movies = user_movie_matrix.loc[user]\n",
    "top_user_movies = user_movie_matrix.loc[top_user]\n",
    "\n",
    "recommendations = top_user_movies[(alice_movies == 0) & (top_user_movies > 0)]\n",
    "print(f\"\\nRecommended movies for {user} based on {top_user}'s preferences:\")\n",
    "print(recommendations.sort_values(ascending=False))\n"
   ]
  },
  {
   "cell_type": "code",
   "execution_count": null,
   "id": "9cbf68be",
   "metadata": {},
   "outputs": [],
   "source": []
  }
 ],
 "metadata": {
  "kernelspec": {
   "display_name": "base",
   "language": "python",
   "name": "python3"
  },
  "language_info": {
   "codemirror_mode": {
    "name": "ipython",
    "version": 3
   },
   "file_extension": ".py",
   "mimetype": "text/x-python",
   "name": "python",
   "nbconvert_exporter": "python",
   "pygments_lexer": "ipython3",
   "version": "3.11.5"
  }
 },
 "nbformat": 4,
 "nbformat_minor": 5
}
